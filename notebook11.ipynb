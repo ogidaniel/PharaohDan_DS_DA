{
 "cells": [
  {
   "cell_type": "markdown",
   "id": "f8b70d12",
   "metadata": {},
   "source": [
    "# Finding the best chocolate bars\n",
    "\n",
    "Now let's now move on to the competition and challenge.\n",
    "\n",
    "##   📖 Background\n",
    "You work at a specialty foods import company that wants to expand into gourmet chocolate bars. Your boss needs your team to research this market to inform your initial approach to potential suppliers.\n",
    "\n",
    "After finding valuable chocolate bar ratings online, you need to explore if the chocolate bars with the highest ratings share any characteristics that could help you narrow your search for suppliers (e.g., cacao percentage, bean country of origin, etc.)"
   ]
  },
  {
   "cell_type": "markdown",
   "id": "bb4cd736",
   "metadata": {},
   "source": [
    "## 💾 The data\n",
    "\n",
    "#### Your team created a file with the following information ([source](https://flavorsofcacao.com)):\n",
    "- \"id\" - id number of the review\n",
    "- \"manufacturer\" - Name of the bar manufacturer\n",
    "- \"company_location\" - Location of the manufacturer\n",
    "- \"year_reviewed\" - From 2006 to 2021\n",
    "- \"bean_origin\" - Country of origin of the cacao beans\n",
    "- \"bar_name\" - Name of the chocolate bar\n",
    "- \"cocoa_percent\" - Cocoa content of the bar (%)\n",
    "- \"num_ingredients\" - Number of ingredients\n",
    "- \"ingredients\" - B (Beans), S (Sugar), S* (Sweetener other than sugar or beet sugar), C (Cocoa Butter), (V) Vanilla, (L) Lecithin, (Sa) Salt\n",
    "- \"review\" - Summary of most memorable characteristics of the chocolate bar\n",
    "- \"rating\" - 1.0-1.9 Unpleasant, 2.0-2.9 Disappointing, 3.0-3.49 Recommended, 3.5-3.9 Highly Recommended, 4.0-5.0 Oustanding\n",
    "\n",
    "***Acknowledgments**: Brady Brelinski, Manhattan Chocolate Society*"
   ]
  },
  {
   "cell_type": "markdown",
   "id": "6c0744d0",
   "metadata": {},
   "source": [
    "## 💪 Challenge\n",
    "Create a report to summarize your research. Include:\n",
    "\n",
    "1. What is the average rating by country of origin?\n",
    "2. How many bars were reviewed for each of those countries?\n",
    "3. Create plots to visualize findings for questions 1 and 2.\n",
    "4. Is the cacao bean's origin an indicator of quality? \n",
    "5. [Optional] How does cocoa content relate to rating? What is the average cocoa content for bars with higher ratings (above 3.5)?\n",
    "6. [Optional 2] Your research indicates that some consumers want to avoid bars with lecithin. Compare the average rating of bars with and without lecithin (L in the ingredients).\n",
    "7. Summarize your findings."
   ]
  },
  {
   "cell_type": "markdown",
   "id": "f27757c4-e222-4b92-a707-5c957d49b63b",
   "metadata": {},
   "source": [
    "## Importing modules"
   ]
  },
  {
   "cell_type": "code",
   "execution_count": 6,
   "id": "cc018016-bca3-40db-98c2-a773f92ade5a",
   "metadata": {
    "tags": []
   },
   "outputs": [],
   "source": [
    "# pip install pandas\n",
    "\n",
    "import pandas as pd\n",
    "#installing other packages \n",
    "\n",
    "import numpy as np\n",
    "import matplotlib.pyplot as plt\n",
    "import pandas as pd\n"
   ]
  },
  {
   "cell_type": "code",
   "execution_count": 7,
   "id": "e8ff284a",
   "metadata": {
    "tags": []
   },
   "outputs": [],
   "source": [
    "chocolate = pd.read_csv(\"chocolate_bars.csv\")"
   ]
  },
  {
   "cell_type": "code",
   "execution_count": 8,
   "id": "ceffc0b4-0f50-42ca-8b98-4e9365d03913",
   "metadata": {
    "tags": []
   },
   "outputs": [
    {
     "data": {
      "text/html": [
       "<div>\n",
       "<style scoped>\n",
       "    .dataframe tbody tr th:only-of-type {\n",
       "        vertical-align: middle;\n",
       "    }\n",
       "\n",
       "    .dataframe tbody tr th {\n",
       "        vertical-align: top;\n",
       "    }\n",
       "\n",
       "    .dataframe thead th {\n",
       "        text-align: right;\n",
       "    }\n",
       "</style>\n",
       "<table border=\"1\" class=\"dataframe\">\n",
       "  <thead>\n",
       "    <tr style=\"text-align: right;\">\n",
       "      <th></th>\n",
       "      <th>id</th>\n",
       "      <th>manufacturer</th>\n",
       "      <th>company_location</th>\n",
       "      <th>year_reviewed</th>\n",
       "      <th>bean_origin</th>\n",
       "      <th>bar_name</th>\n",
       "      <th>cocoa_percent</th>\n",
       "      <th>num_ingredients</th>\n",
       "      <th>ingredients</th>\n",
       "      <th>review</th>\n",
       "      <th>rating</th>\n",
       "    </tr>\n",
       "  </thead>\n",
       "  <tbody>\n",
       "    <tr>\n",
       "      <th>0</th>\n",
       "      <td>2454</td>\n",
       "      <td>5150</td>\n",
       "      <td>U.S.A.</td>\n",
       "      <td>2019</td>\n",
       "      <td>Tanzania</td>\n",
       "      <td>Kokoa Kamili, batch 1</td>\n",
       "      <td>76.0</td>\n",
       "      <td>3.0</td>\n",
       "      <td>B,S,C</td>\n",
       "      <td>rich cocoa, fatty, bready</td>\n",
       "      <td>3.25</td>\n",
       "    </tr>\n",
       "    <tr>\n",
       "      <th>1</th>\n",
       "      <td>2458</td>\n",
       "      <td>5150</td>\n",
       "      <td>U.S.A.</td>\n",
       "      <td>2019</td>\n",
       "      <td>Dominican Republic</td>\n",
       "      <td>Zorzal, batch 1</td>\n",
       "      <td>76.0</td>\n",
       "      <td>3.0</td>\n",
       "      <td>B,S,C</td>\n",
       "      <td>cocoa, vegetal, savory</td>\n",
       "      <td>3.50</td>\n",
       "    </tr>\n",
       "    <tr>\n",
       "      <th>2</th>\n",
       "      <td>2454</td>\n",
       "      <td>5150</td>\n",
       "      <td>U.S.A.</td>\n",
       "      <td>2019</td>\n",
       "      <td>Madagascar</td>\n",
       "      <td>Bejofo Estate, batch 1</td>\n",
       "      <td>76.0</td>\n",
       "      <td>3.0</td>\n",
       "      <td>B,S,C</td>\n",
       "      <td>cocoa, blackberry, full body</td>\n",
       "      <td>3.75</td>\n",
       "    </tr>\n",
       "    <tr>\n",
       "      <th>3</th>\n",
       "      <td>2542</td>\n",
       "      <td>5150</td>\n",
       "      <td>U.S.A.</td>\n",
       "      <td>2021</td>\n",
       "      <td>Fiji</td>\n",
       "      <td>Matasawalevu, batch 1</td>\n",
       "      <td>68.0</td>\n",
       "      <td>3.0</td>\n",
       "      <td>B,S,C</td>\n",
       "      <td>chewy, off, rubbery</td>\n",
       "      <td>3.00</td>\n",
       "    </tr>\n",
       "    <tr>\n",
       "      <th>4</th>\n",
       "      <td>2546</td>\n",
       "      <td>5150</td>\n",
       "      <td>U.S.A.</td>\n",
       "      <td>2021</td>\n",
       "      <td>Venezuela</td>\n",
       "      <td>Sur del Lago, batch 1</td>\n",
       "      <td>72.0</td>\n",
       "      <td>3.0</td>\n",
       "      <td>B,S,C</td>\n",
       "      <td>fatty, earthy, moss, nutty,chalky</td>\n",
       "      <td>3.00</td>\n",
       "    </tr>\n",
       "    <tr>\n",
       "      <th>...</th>\n",
       "      <td>...</td>\n",
       "      <td>...</td>\n",
       "      <td>...</td>\n",
       "      <td>...</td>\n",
       "      <td>...</td>\n",
       "      <td>...</td>\n",
       "      <td>...</td>\n",
       "      <td>...</td>\n",
       "      <td>...</td>\n",
       "      <td>...</td>\n",
       "      <td>...</td>\n",
       "    </tr>\n",
       "    <tr>\n",
       "      <th>2525</th>\n",
       "      <td>1205</td>\n",
       "      <td>Zotter</td>\n",
       "      <td>Austria</td>\n",
       "      <td>2014</td>\n",
       "      <td>Blend</td>\n",
       "      <td>Raw</td>\n",
       "      <td>80.0</td>\n",
       "      <td>4.0</td>\n",
       "      <td>B,S*,C,Sa</td>\n",
       "      <td>waxy, cloying, vegetal</td>\n",
       "      <td>2.75</td>\n",
       "    </tr>\n",
       "    <tr>\n",
       "      <th>2526</th>\n",
       "      <td>1996</td>\n",
       "      <td>Zotter</td>\n",
       "      <td>Austria</td>\n",
       "      <td>2017</td>\n",
       "      <td>Colombia</td>\n",
       "      <td>APROCAFA, Acandi</td>\n",
       "      <td>75.0</td>\n",
       "      <td>3.0</td>\n",
       "      <td>B,S,C</td>\n",
       "      <td>strong nutty, marshmallow</td>\n",
       "      <td>3.75</td>\n",
       "    </tr>\n",
       "    <tr>\n",
       "      <th>2527</th>\n",
       "      <td>2036</td>\n",
       "      <td>Zotter</td>\n",
       "      <td>Austria</td>\n",
       "      <td>2018</td>\n",
       "      <td>Blend</td>\n",
       "      <td>Dry Aged, 30 yr Anniversary bar</td>\n",
       "      <td>75.0</td>\n",
       "      <td>3.0</td>\n",
       "      <td>B,S,C</td>\n",
       "      <td>fatty, earthy, cocoa</td>\n",
       "      <td>3.00</td>\n",
       "    </tr>\n",
       "    <tr>\n",
       "      <th>2528</th>\n",
       "      <td>2170</td>\n",
       "      <td>Zotter</td>\n",
       "      <td>Austria</td>\n",
       "      <td>2018</td>\n",
       "      <td>Congo</td>\n",
       "      <td>Mountains of the Moon</td>\n",
       "      <td>70.0</td>\n",
       "      <td>3.0</td>\n",
       "      <td>B,S,C</td>\n",
       "      <td>fatty, mild nuts, mild fruit</td>\n",
       "      <td>3.25</td>\n",
       "    </tr>\n",
       "    <tr>\n",
       "      <th>2529</th>\n",
       "      <td>2170</td>\n",
       "      <td>Zotter</td>\n",
       "      <td>Austria</td>\n",
       "      <td>2018</td>\n",
       "      <td>Belize</td>\n",
       "      <td>Maya Mtn</td>\n",
       "      <td>72.0</td>\n",
       "      <td>3.0</td>\n",
       "      <td>B,S,C</td>\n",
       "      <td>muted, roasty, accessible</td>\n",
       "      <td>3.50</td>\n",
       "    </tr>\n",
       "  </tbody>\n",
       "</table>\n",
       "<p>2530 rows × 11 columns</p>\n",
       "</div>"
      ],
      "text/plain": [
       "        id manufacturer company_location  year_reviewed         bean_origin  \\\n",
       "0     2454         5150           U.S.A.           2019            Tanzania   \n",
       "1     2458         5150           U.S.A.           2019  Dominican Republic   \n",
       "2     2454         5150           U.S.A.           2019          Madagascar   \n",
       "3     2542         5150           U.S.A.           2021                Fiji   \n",
       "4     2546         5150           U.S.A.           2021           Venezuela   \n",
       "...    ...          ...              ...            ...                 ...   \n",
       "2525  1205       Zotter          Austria           2014               Blend   \n",
       "2526  1996       Zotter          Austria           2017            Colombia   \n",
       "2527  2036       Zotter          Austria           2018               Blend   \n",
       "2528  2170       Zotter          Austria           2018               Congo   \n",
       "2529  2170       Zotter          Austria           2018              Belize   \n",
       "\n",
       "                             bar_name  cocoa_percent  num_ingredients  \\\n",
       "0               Kokoa Kamili, batch 1           76.0              3.0   \n",
       "1                     Zorzal, batch 1           76.0              3.0   \n",
       "2              Bejofo Estate, batch 1           76.0              3.0   \n",
       "3               Matasawalevu, batch 1           68.0              3.0   \n",
       "4               Sur del Lago, batch 1           72.0              3.0   \n",
       "...                               ...            ...              ...   \n",
       "2525                              Raw           80.0              4.0   \n",
       "2526                 APROCAFA, Acandi           75.0              3.0   \n",
       "2527  Dry Aged, 30 yr Anniversary bar           75.0              3.0   \n",
       "2528            Mountains of the Moon           70.0              3.0   \n",
       "2529                         Maya Mtn           72.0              3.0   \n",
       "\n",
       "     ingredients                             review  rating  \n",
       "0          B,S,C          rich cocoa, fatty, bready    3.25  \n",
       "1          B,S,C             cocoa, vegetal, savory    3.50  \n",
       "2          B,S,C       cocoa, blackberry, full body    3.75  \n",
       "3          B,S,C                chewy, off, rubbery    3.00  \n",
       "4          B,S,C  fatty, earthy, moss, nutty,chalky    3.00  \n",
       "...          ...                                ...     ...  \n",
       "2525   B,S*,C,Sa             waxy, cloying, vegetal    2.75  \n",
       "2526       B,S,C          strong nutty, marshmallow    3.75  \n",
       "2527       B,S,C               fatty, earthy, cocoa    3.00  \n",
       "2528       B,S,C       fatty, mild nuts, mild fruit    3.25  \n",
       "2529       B,S,C          muted, roasty, accessible    3.50  \n",
       "\n",
       "[2530 rows x 11 columns]"
      ]
     },
     "execution_count": 8,
     "metadata": {},
     "output_type": "execute_result"
    }
   ],
   "source": [
    "chocolate"
   ]
  },
  {
   "cell_type": "code",
   "execution_count": 9,
   "id": "949beb1b-d8ea-4479-9d04-2d717dfcf48b",
   "metadata": {
    "tags": []
   },
   "outputs": [
    {
     "data": {
      "text/plain": [
       "count       2530\n",
       "unique        67\n",
       "top       U.S.A.\n",
       "freq        1136\n",
       "Name: company_location, dtype: object"
      ]
     },
     "execution_count": 9,
     "metadata": {},
     "output_type": "execute_result"
    }
   ],
   "source": [
    "chocolate['company_location'].describe()"
   ]
  },
  {
   "cell_type": "code",
   "execution_count": 10,
   "id": "774ee64e-4763-4696-bf06-974d2c45baae",
   "metadata": {
    "tags": []
   },
   "outputs": [
    {
     "data": {
      "text/plain": [
       "0        U.S.A.\n",
       "1        U.S.A.\n",
       "2        U.S.A.\n",
       "3        U.S.A.\n",
       "4        U.S.A.\n",
       "         ...   \n",
       "2525    Austria\n",
       "2526    Austria\n",
       "2527    Austria\n",
       "2528    Austria\n",
       "2529    Austria\n",
       "Name: company_location, Length: 2530, dtype: object"
      ]
     },
     "execution_count": 10,
     "metadata": {},
     "output_type": "execute_result"
    }
   ],
   "source": [
    "chocolate['company_location']"
   ]
  },
  {
   "cell_type": "code",
   "execution_count": 11,
   "id": "7d9059d1-e106-4a44-832b-a841317ab968",
   "metadata": {
    "tags": []
   },
   "outputs": [
    {
     "data": {
      "text/plain": [
       "company_location\n",
       "U.S.A.                   1136\n",
       "Canada                    177\n",
       "France                    176\n",
       "U.K.                      133\n",
       "Italy                      78\n",
       "                         ... \n",
       "St.Vincent-Grenadines       1\n",
       "Martinique                  1\n",
       "Ghana                       1\n",
       "Wales                       1\n",
       "Suriname                    1\n",
       "Name: count, Length: 67, dtype: int64"
      ]
     },
     "execution_count": 11,
     "metadata": {},
     "output_type": "execute_result"
    }
   ],
   "source": [
    "chocolate['company_location'].value_counts()"
   ]
  },
  {
   "cell_type": "code",
   "execution_count": 12,
   "id": "1998e39c-9d33-4324-97a6-60b020273166",
   "metadata": {
    "tags": []
   },
   "outputs": [
    {
     "name": "stdout",
     "output_type": "stream",
     "text": [
      "U.S.A. 1136\n",
      "Canada 177\n",
      "France 176\n",
      "U.K. 133\n",
      "Italy 78\n",
      "Belgium 63\n",
      "Ecuador 58\n",
      "Australia 53\n",
      "Switzerland 44\n",
      "Germany 42\n",
      "Spain 36\n",
      "Venezuela 31\n",
      "Japan 31\n",
      "Denmark 31\n",
      "Austria 30\n",
      "Colombia 29\n",
      "New Zealand 27\n",
      "Hungary 26\n",
      "Brazil 25\n",
      "Peru 23\n",
      "Madagascar 17\n",
      "Vietnam 16\n",
      "Singapore 15\n",
      "Amsterdam 12\n",
      "Scotland 11\n",
      "South Korea 11\n",
      "Dominican Republic 11\n",
      "Taiwan 10\n",
      "Nicaragua 10\n",
      "Mexico 10\n",
      "Guatemala 10\n",
      "Argentina 9\n",
      "Israel 9\n",
      "Costa Rica 9\n",
      "Netherlands 8\n",
      "Lithuania 8\n",
      "Poland 8\n",
      "Honduras 6\n",
      "Sweden 6\n",
      "Thailand 5\n",
      "Ireland 5\n",
      "Philippines 5\n",
      "U.A.E. 5\n",
      "Fiji 4\n",
      "Vanuatu 4\n",
      "Sao Tome & Principe 4\n",
      "South Africa 4\n",
      "Sao Tome 4\n",
      "Iceland 4\n",
      "Puerto Rico 4\n",
      "Malaysia 3\n",
      "Norway 3\n",
      "Czech Republic 3\n",
      "Grenada 3\n",
      "Portugal 3\n",
      "St. Lucia 3\n",
      "Russia 3\n",
      "El Salvador 3\n",
      "Finland 2\n",
      "India 2\n",
      "Bolivia 2\n",
      "Chile 2\n",
      "St.Vincent-Grenadines 1\n",
      "Martinique 1\n",
      "Ghana 1\n",
      "Wales 1\n",
      "Suriname 1\n"
     ]
    }
   ],
   "source": [
    "choco_vcounts = chocolate['company_location'].value_counts()\n",
    "\n",
    "#### display all the key and value in the column\n",
    "    \n",
    "for key,value in choco_vcounts.items():\n",
    "    print(key,value)"
   ]
  },
  {
   "cell_type": "code",
   "execution_count": 13,
   "id": "8bab627f-e9c4-4108-994d-080afa8895cf",
   "metadata": {
    "tags": []
   },
   "outputs": [
    {
     "data": {
      "text/plain": [
       "(2530, 11)"
      ]
     },
     "execution_count": 13,
     "metadata": {},
     "output_type": "execute_result"
    }
   ],
   "source": [
    "#shape of the dataframe\n",
    "\n",
    "chocolate.shape"
   ]
  },
  {
   "cell_type": "code",
   "execution_count": 14,
   "id": "2e447827-cda8-4999-898a-aca27ca1b16a",
   "metadata": {
    "tags": []
   },
   "outputs": [
    {
     "data": {
      "text/plain": [
       "id                    int64\n",
       "manufacturer         object\n",
       "company_location     object\n",
       "year_reviewed         int64\n",
       "bean_origin          object\n",
       "bar_name             object\n",
       "cocoa_percent       float64\n",
       "num_ingredients     float64\n",
       "ingredients          object\n",
       "review               object\n",
       "rating              float64\n",
       "dtype: object"
      ]
     },
     "execution_count": 14,
     "metadata": {},
     "output_type": "execute_result"
    }
   ],
   "source": [
    "#A check on how pandas interpreted each of the column data types can be done by requesting the pandas dtypes\n",
    "##attribute:\n",
    "\n",
    "chocolate.dtypes"
   ]
  },
  {
   "cell_type": "markdown",
   "id": "7e739af0-0176-4111-99ea-2a1296fdca2e",
   "metadata": {},
   "source": [
    "#### \"rating\" - 1.0-1.9 Unpleasant, 2.0-2.9 Disappointing, 3.0-3.49 Recommended, 3.5-3.9 Highly Recommended, 4.0-5.0 Oustanding\n"
   ]
  },
  {
   "cell_type": "code",
   "execution_count": 15,
   "id": "af9b36d1-aea4-47c5-b3b1-100d53e90cec",
   "metadata": {
    "tags": []
   },
   "outputs": [],
   "source": [
    "#need for reeplacing some object based on rating value group\n",
    "\n",
    "#writing a function to group the datasets\n",
    "\n",
    "\n",
    "def rating_distribution(r_distribution):\n",
    "    if r_distribution <= 1.9:\n",
    "        return ('Unpleasant')\n",
    "    elif r_distribution >= 2.0 and r_distribution <= 2.9:\n",
    "        return ('Disappointing')\n",
    "    elif r_distribution >= 3.0 and r_distribution <= 3.49:\n",
    "        return ('Recommended')\n",
    "    elif r_distribution >= 3.5 and r_distribution <= 3.9:\n",
    "        return ('Highly Recommended')\n",
    "    else:\n",
    "        return ('Oustanding')"
   ]
  },
  {
   "cell_type": "code",
   "execution_count": 16,
   "id": "34e1c9a5-b2c2-4b54-a8b9-f0f6f8d325a0",
   "metadata": {
    "tags": []
   },
   "outputs": [],
   "source": [
    "#adding a function to the rating field name::\n",
    "\n",
    "rating_choco = chocolate['rating'].apply(rating_distribution)"
   ]
  },
  {
   "cell_type": "code",
   "execution_count": 17,
   "id": "eca1b8e7-194c-414a-b4c6-31a255078f21",
   "metadata": {
    "tags": []
   },
   "outputs": [
    {
     "data": {
      "text/plain": [
       "0              Recommended\n",
       "1       Highly Recommended\n",
       "2       Highly Recommended\n",
       "3              Recommended\n",
       "4              Recommended\n",
       "               ...        \n",
       "2525         Disappointing\n",
       "2526    Highly Recommended\n",
       "2527           Recommended\n",
       "2528           Recommended\n",
       "2529    Highly Recommended\n",
       "Name: rating, Length: 2530, dtype: object"
      ]
     },
     "execution_count": 17,
     "metadata": {},
     "output_type": "execute_result"
    }
   ],
   "source": [
    "rating_choco"
   ]
  },
  {
   "cell_type": "code",
   "execution_count": 18,
   "id": "9e335e62-544d-400c-9590-d2d99a108d07",
   "metadata": {
    "tags": []
   },
   "outputs": [],
   "source": [
    "#adding a new field name.\n",
    "\n",
    "chocolate['rating_choco'] = rating_choco"
   ]
  },
  {
   "cell_type": "code",
   "execution_count": 19,
   "id": "dd7d31d5",
   "metadata": {},
   "outputs": [
    {
     "data": {
      "text/plain": [
       "0              Recommended\n",
       "1       Highly Recommended\n",
       "2       Highly Recommended\n",
       "3              Recommended\n",
       "4              Recommended\n",
       "               ...        \n",
       "2525         Disappointing\n",
       "2526    Highly Recommended\n",
       "2527           Recommended\n",
       "2528           Recommended\n",
       "2529    Highly Recommended\n",
       "Name: rating_choco, Length: 2530, dtype: object"
      ]
     },
     "execution_count": 19,
     "metadata": {},
     "output_type": "execute_result"
    }
   ],
   "source": [
    "chocolate['rating_choco']"
   ]
  },
  {
   "cell_type": "code",
   "execution_count": 20,
   "id": "330dbda3-8e1b-4c5a-af0a-b4a800f39ee1",
   "metadata": {
    "tags": []
   },
   "outputs": [
    {
     "data": {
      "text/html": [
       "<div>\n",
       "<style scoped>\n",
       "    .dataframe tbody tr th:only-of-type {\n",
       "        vertical-align: middle;\n",
       "    }\n",
       "\n",
       "    .dataframe tbody tr th {\n",
       "        vertical-align: top;\n",
       "    }\n",
       "\n",
       "    .dataframe thead th {\n",
       "        text-align: right;\n",
       "    }\n",
       "</style>\n",
       "<table border=\"1\" class=\"dataframe\">\n",
       "  <thead>\n",
       "    <tr style=\"text-align: right;\">\n",
       "      <th></th>\n",
       "      <th>id</th>\n",
       "      <th>manufacturer</th>\n",
       "      <th>company_location</th>\n",
       "      <th>year_reviewed</th>\n",
       "      <th>bean_origin</th>\n",
       "      <th>bar_name</th>\n",
       "      <th>cocoa_percent</th>\n",
       "      <th>num_ingredients</th>\n",
       "      <th>ingredients</th>\n",
       "      <th>review</th>\n",
       "      <th>rating</th>\n",
       "      <th>rating_choco</th>\n",
       "    </tr>\n",
       "  </thead>\n",
       "  <tbody>\n",
       "    <tr>\n",
       "      <th>0</th>\n",
       "      <td>2454</td>\n",
       "      <td>5150</td>\n",
       "      <td>U.S.A.</td>\n",
       "      <td>2019</td>\n",
       "      <td>Tanzania</td>\n",
       "      <td>Kokoa Kamili, batch 1</td>\n",
       "      <td>76.0</td>\n",
       "      <td>3.0</td>\n",
       "      <td>B,S,C</td>\n",
       "      <td>rich cocoa, fatty, bready</td>\n",
       "      <td>3.25</td>\n",
       "      <td>Recommended</td>\n",
       "    </tr>\n",
       "    <tr>\n",
       "      <th>1</th>\n",
       "      <td>2458</td>\n",
       "      <td>5150</td>\n",
       "      <td>U.S.A.</td>\n",
       "      <td>2019</td>\n",
       "      <td>Dominican Republic</td>\n",
       "      <td>Zorzal, batch 1</td>\n",
       "      <td>76.0</td>\n",
       "      <td>3.0</td>\n",
       "      <td>B,S,C</td>\n",
       "      <td>cocoa, vegetal, savory</td>\n",
       "      <td>3.50</td>\n",
       "      <td>Highly Recommended</td>\n",
       "    </tr>\n",
       "    <tr>\n",
       "      <th>2</th>\n",
       "      <td>2454</td>\n",
       "      <td>5150</td>\n",
       "      <td>U.S.A.</td>\n",
       "      <td>2019</td>\n",
       "      <td>Madagascar</td>\n",
       "      <td>Bejofo Estate, batch 1</td>\n",
       "      <td>76.0</td>\n",
       "      <td>3.0</td>\n",
       "      <td>B,S,C</td>\n",
       "      <td>cocoa, blackberry, full body</td>\n",
       "      <td>3.75</td>\n",
       "      <td>Highly Recommended</td>\n",
       "    </tr>\n",
       "    <tr>\n",
       "      <th>3</th>\n",
       "      <td>2542</td>\n",
       "      <td>5150</td>\n",
       "      <td>U.S.A.</td>\n",
       "      <td>2021</td>\n",
       "      <td>Fiji</td>\n",
       "      <td>Matasawalevu, batch 1</td>\n",
       "      <td>68.0</td>\n",
       "      <td>3.0</td>\n",
       "      <td>B,S,C</td>\n",
       "      <td>chewy, off, rubbery</td>\n",
       "      <td>3.00</td>\n",
       "      <td>Recommended</td>\n",
       "    </tr>\n",
       "    <tr>\n",
       "      <th>4</th>\n",
       "      <td>2546</td>\n",
       "      <td>5150</td>\n",
       "      <td>U.S.A.</td>\n",
       "      <td>2021</td>\n",
       "      <td>Venezuela</td>\n",
       "      <td>Sur del Lago, batch 1</td>\n",
       "      <td>72.0</td>\n",
       "      <td>3.0</td>\n",
       "      <td>B,S,C</td>\n",
       "      <td>fatty, earthy, moss, nutty,chalky</td>\n",
       "      <td>3.00</td>\n",
       "      <td>Recommended</td>\n",
       "    </tr>\n",
       "  </tbody>\n",
       "</table>\n",
       "</div>"
      ],
      "text/plain": [
       "     id manufacturer company_location  year_reviewed         bean_origin  \\\n",
       "0  2454         5150           U.S.A.           2019            Tanzania   \n",
       "1  2458         5150           U.S.A.           2019  Dominican Republic   \n",
       "2  2454         5150           U.S.A.           2019          Madagascar   \n",
       "3  2542         5150           U.S.A.           2021                Fiji   \n",
       "4  2546         5150           U.S.A.           2021           Venezuela   \n",
       "\n",
       "                 bar_name  cocoa_percent  num_ingredients ingredients  \\\n",
       "0   Kokoa Kamili, batch 1           76.0              3.0       B,S,C   \n",
       "1         Zorzal, batch 1           76.0              3.0       B,S,C   \n",
       "2  Bejofo Estate, batch 1           76.0              3.0       B,S,C   \n",
       "3   Matasawalevu, batch 1           68.0              3.0       B,S,C   \n",
       "4   Sur del Lago, batch 1           72.0              3.0       B,S,C   \n",
       "\n",
       "                              review  rating        rating_choco  \n",
       "0          rich cocoa, fatty, bready    3.25         Recommended  \n",
       "1             cocoa, vegetal, savory    3.50  Highly Recommended  \n",
       "2       cocoa, blackberry, full body    3.75  Highly Recommended  \n",
       "3                chewy, off, rubbery    3.00         Recommended  \n",
       "4  fatty, earthy, moss, nutty,chalky    3.00         Recommended  "
      ]
     },
     "execution_count": 20,
     "metadata": {},
     "output_type": "execute_result"
    }
   ],
   "source": [
    "chocolate.head()\n",
    "\n",
    "\n",
    "# rating_distribution_vcounts = chocolate['rating_choco'].value_counts()\n",
    "\n",
    "# #### display all the key and value in the column\n",
    "    \n",
    "# for k,v in rating_distribution_vcounts.items():\n",
    "#     print(k,v)"
   ]
  },
  {
   "cell_type": "code",
   "execution_count": 21,
   "id": "8b28bbf5-3222-419c-bb1a-c6848c2c9265",
   "metadata": {},
   "outputs": [
    {
     "data": {
      "text/plain": [
       "rating_choco\n",
       "Recommended           987\n",
       "Highly Recommended    865\n",
       "Disappointing         549\n",
       "Oustanding            112\n",
       "Unpleasant             17\n",
       "Name: count, dtype: int64"
      ]
     },
     "execution_count": 21,
     "metadata": {},
     "output_type": "execute_result"
    }
   ],
   "source": [
    "#checking distribution\n",
    "\n",
    "chocolate['rating_choco'].value_counts()"
   ]
  },
  {
   "cell_type": "code",
   "execution_count": 22,
   "id": "1f25de3c",
   "metadata": {},
   "outputs": [
    {
     "data": {
      "text/plain": [
       "count            2530\n",
       "unique              5\n",
       "top       Recommended\n",
       "freq              987\n",
       "Name: rating_choco, dtype: object"
      ]
     },
     "execution_count": 22,
     "metadata": {},
     "output_type": "execute_result"
    }
   ],
   "source": [
    "chocolate['rating_choco'].describe()"
   ]
  },
  {
   "cell_type": "code",
   "execution_count": 23,
   "id": "16918f23",
   "metadata": {},
   "outputs": [
    {
     "data": {
      "text/plain": [
       "3.1963438735177867"
      ]
     },
     "execution_count": 23,
     "metadata": {},
     "output_type": "execute_result"
    }
   ],
   "source": [
    "# What is the average age of the rating?\n",
    "\n",
    "chocolate['rating'].mean()"
   ]
  },
  {
   "cell_type": "code",
   "execution_count": 25,
   "id": "baef8155",
   "metadata": {},
   "outputs": [
    {
     "data": {
      "text/html": [
       "<div>\n",
       "<style scoped>\n",
       "    .dataframe tbody tr th:only-of-type {\n",
       "        vertical-align: middle;\n",
       "    }\n",
       "\n",
       "    .dataframe tbody tr th {\n",
       "        vertical-align: top;\n",
       "    }\n",
       "\n",
       "    .dataframe thead th {\n",
       "        text-align: right;\n",
       "    }\n",
       "</style>\n",
       "<table border=\"1\" class=\"dataframe\">\n",
       "  <thead>\n",
       "    <tr style=\"text-align: right;\">\n",
       "      <th></th>\n",
       "      <th>rating</th>\n",
       "    </tr>\n",
       "    <tr>\n",
       "      <th>bean_origin</th>\n",
       "      <th></th>\n",
       "    </tr>\n",
       "  </thead>\n",
       "  <tbody>\n",
       "    <tr>\n",
       "      <th>Australia</th>\n",
       "      <td>3.250000</td>\n",
       "    </tr>\n",
       "    <tr>\n",
       "      <th>Belize</th>\n",
       "      <td>3.233553</td>\n",
       "    </tr>\n",
       "    <tr>\n",
       "      <th>Blend</th>\n",
       "      <td>3.038462</td>\n",
       "    </tr>\n",
       "    <tr>\n",
       "      <th>Bolivia</th>\n",
       "      <td>3.181250</td>\n",
       "    </tr>\n",
       "    <tr>\n",
       "      <th>Brazil</th>\n",
       "      <td>3.262821</td>\n",
       "    </tr>\n",
       "    <tr>\n",
       "      <th>...</th>\n",
       "      <td>...</td>\n",
       "    </tr>\n",
       "    <tr>\n",
       "      <th>U.S.A.</th>\n",
       "      <td>3.242424</td>\n",
       "    </tr>\n",
       "    <tr>\n",
       "      <th>Uganda</th>\n",
       "      <td>3.065789</td>\n",
       "    </tr>\n",
       "    <tr>\n",
       "      <th>Vanuatu</th>\n",
       "      <td>3.115385</td>\n",
       "    </tr>\n",
       "    <tr>\n",
       "      <th>Venezuela</th>\n",
       "      <td>3.231225</td>\n",
       "    </tr>\n",
       "    <tr>\n",
       "      <th>Vietnam</th>\n",
       "      <td>3.287671</td>\n",
       "    </tr>\n",
       "  </tbody>\n",
       "</table>\n",
       "<p>62 rows × 1 columns</p>\n",
       "</div>"
      ],
      "text/plain": [
       "               rating\n",
       "bean_origin          \n",
       "Australia    3.250000\n",
       "Belize       3.233553\n",
       "Blend        3.038462\n",
       "Bolivia      3.181250\n",
       "Brazil       3.262821\n",
       "...               ...\n",
       "U.S.A.       3.242424\n",
       "Uganda       3.065789\n",
       "Vanuatu      3.115385\n",
       "Venezuela    3.231225\n",
       "Vietnam      3.287671\n",
       "\n",
       "[62 rows x 1 columns]"
      ]
     },
     "execution_count": 25,
     "metadata": {},
     "output_type": "execute_result"
    }
   ],
   "source": [
    "chocolate[[\"bean_origin\", \"rating\"]].groupby(\"bean_origin\").mean()"
   ]
  },
  {
   "cell_type": "code",
   "execution_count": null,
   "id": "37730c6b",
   "metadata": {},
   "outputs": [],
   "source": [
    "#plot a graph\n",
    "\n"
   ]
  }
 ],
 "metadata": {
  "editor": "DataCamp Workspace",
  "kernelspec": {
   "display_name": "Python 3 (ipykernel)",
   "language": "python",
   "name": "python3"
  },
  "language_info": {
   "codemirror_mode": {
    "name": "ipython",
    "version": 3
   },
   "file_extension": ".py",
   "mimetype": "text/x-python",
   "name": "python",
   "nbconvert_exporter": "python",
   "pygments_lexer": "ipython3",
   "version": "3.11.5"
  }
 },
 "nbformat": 4,
 "nbformat_minor": 5
}
